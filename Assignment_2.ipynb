{
  "nbformat": 4,
  "nbformat_minor": 0,
  "metadata": {
    "colab": {
      "provenance": [],
      "authorship_tag": "ABX9TyMo0AHFEDB9o250pwGlTpXN",
      "include_colab_link": true
    },
    "kernelspec": {
      "name": "python3",
      "display_name": "Python 3"
    },
    "language_info": {
      "name": "python"
    }
  },
  "cells": [
    {
      "cell_type": "markdown",
      "metadata": {
        "id": "view-in-github",
        "colab_type": "text"
      },
      "source": [
        "<a href=\"https://colab.research.google.com/github/fatima1846/python-and-AI-boot-camp-assignment-2/blob/main/Assignment_2.ipynb\" target=\"_parent\"><img src=\"https://colab.research.google.com/assets/colab-badge.svg\" alt=\"Open In Colab\"/></a>"
      ]
    },
    {
      "cell_type": "code",
      "execution_count": null,
      "metadata": {
        "id": "wfZtgDDUmMzI"
      },
      "outputs": [],
      "source": [
        "from google.colab import files\n",
        "files.upload()"
      ]
    },
    {
      "cell_type": "code",
      "source": [
        "#installing the important libraries\n",
        "!pip install matplotlib seaborn plotly pandas scikit-learn\n",
        "#importing libraries\n",
        "import pandas as pd\n",
        "import numpy as np\n",
        "import seaborn as sns\n",
        "import matplotlib.pyplot as plt\n",
        "import plotly.express as px\n",
        "import sklearn\n",
        "from sklearn.model_selection import train_test_split\n",
        "from sklearn.preprocessing import StandardScaler, MinMaxScaler, LabelEncoder, OneHotEncoder\n",
        "from sklearn.metrics import accuracy_score, confusion_matrix, precision_score, recall_score, f1_score, classification_report\n",
        "from sklearn.tree import DecisionTreeClassifier\n",
        "from sklearn.neighbors import KNeighborsClassifier\n",
        "from sklearn.ensemble import RandomForestClassifier\n",
        "from scipy.stats import randint\n",
        "from sklearn.model_selection import RandomizedSearchCV\n",
        "\n"
      ],
      "metadata": {
        "id": "qYMP_DUWmm9A"
      },
      "execution_count": null,
      "outputs": []
    },
    {
      "cell_type": "markdown",
      "source": [
        "1-Data Handling"
      ],
      "metadata": {
        "id": "oYu0n0qu3Qms"
      }
    },
    {
      "cell_type": "code",
      "source": [
        "#reading dataset\n",
        "df=pd.read_csv(\"/content/fetal_health.csv\")\n",
        "#initial checks\n",
        "print (\"shape of dataset:\",df.shape)\n",
        "print(\"\\n First five rows of dataset:\")\n",
        "print(df.head())\n",
        "print(\"\\n information of dataset:\")\n",
        "print(df.info())\n",
        "\n",
        "#handling missing values & duplicates\n",
        "print(\"\\n Missing values:\",df.isnull().sum())\n",
        "df=df.dropna()\n",
        "\n",
        "print(\"\\n Number of duplicates:\",df.duplicated().sum())\n",
        "#categorical features into numeric form\n",
        "df=pd.get_dummies(df,drop_first=True)\n",
        "print(\"numerical form:\",df.shape)"
      ],
      "metadata": {
        "id": "UebuJVjjtvD6"
      },
      "execution_count": null,
      "outputs": []
    },
    {
      "cell_type": "markdown",
      "source": [
        "2- Exploratory data analysis"
      ],
      "metadata": {
        "id": "VqAtjsofw1Pu"
      }
    },
    {
      "cell_type": "code",
      "source": [
        "#basic statistics\n",
        "print(\"\\n Summary of dataset:\")\n",
        "print(df.describe())\n",
        "\n",
        "#visualizing data\n",
        "#histogram\n",
        "df.hist(figsize=(8,6),bins=10,color='green')\n",
        "plt.suptitle(\"Histogram of dataset:\")\n",
        "plt.show()\n"
      ],
      "metadata": {
        "id": "SkN9Rxb5w08b"
      },
      "execution_count": null,
      "outputs": []
    },
    {
      "cell_type": "code",
      "source": [
        "#boxplot\n",
        "plt.figure(figsize=(8,5))\n",
        "sns.boxplot(x=df['fetal_health'])\n",
        "plt.title(\"Boxplot of fetal health\")\n",
        "plt.show()\n",
        "\n",
        "\n",
        "\n",
        "\n"
      ],
      "metadata": {
        "id": "c7Pf5tLzz9wM"
      },
      "execution_count": null,
      "outputs": []
    },
    {
      "cell_type": "code",
      "source": [
        "#interactive plot\n",
        "plt.figure(figsize=(8,5))\n",
        "sns.heatmap(df.corr(numeric_only=True),annot=True, cmap=\"coolwarm\")\n",
        "plt.title(\"Correlation Heatmap\")\n",
        "plt.show()\n"
      ],
      "metadata": {
        "id": "WG24WJWS4FG_"
      },
      "execution_count": null,
      "outputs": []
    },
    {
      "cell_type": "code",
      "source": [
        "#countplot\n",
        "sns.countplot(x='fetal_health',data=df)\n",
        "plt.title(\"Fetal health\")\n",
        "plt.show()"
      ],
      "metadata": {
        "colab": {
          "base_uri": "https://localhost:8080/",
          "height": 472
        },
        "id": "3mtHquDQ6srE",
        "outputId": "5e2fe516-3363-4f15-d6d1-d6692a63eab4"
      },
      "execution_count": null,
      "outputs": [
        {
          "output_type": "display_data",
          "data": {
            "text/plain": [
              "<Figure size 640x480 with 1 Axes>"
            ],
            "image/png": "[encoded data removed]"
          },
          "metadata": {}
        }
      ]
    },
    {
      "cell_type": "markdown",
      "source": [
        "3-Feature Engineering"
      ],
      "metadata": {
        "id": "_k6zs2V75aFH"
      }
    },
    {
      "cell_type": "code",
      "source": [
        "#splitting dataset\n",
        "x=df.drop('fetal_health',axis=1)\n",
        "y=df['fetal_health']\n",
        "\n",
        "#normalization/scaling\n",
        "scaler=StandardScaler()\n",
        "x_scaled=scaler.fit_transform(x)\n",
        "#train/test split\n",
        "x_train,x_test,y_train,y_test=train_test_split(x_scaled,y,test_size=0.2,random_state=42)\n",
        "print(\"Training data:\")\n",
        "print(x_train.shape)\n",
        "print(\"Test set:\")\n",
        "print(x_test.shape)"
      ],
      "metadata": {
        "id": "SvryXHii4LF2"
      },
      "execution_count": null,
      "outputs": []
    },
    {
      "cell_type": "markdown",
      "source": [
        "4-Model Training"
      ],
      "metadata": {
        "id": "jIMGBscg8Kbu"
      }
    },
    {
      "cell_type": "code",
      "source": [
        "#knn\n",
        "knn=KNeighborsClassifier()\n",
        "knn.fit(x_train,y_train)\n",
        "y_pred_knn=knn.predict(x_test)\n",
        "acc_knn=accuracy_score(y_test,y_pred_knn)\n",
        "#decision tree\n",
        "dt=DecisionTreeClassifier(random_state=42)\n",
        "dt.fit(x_train,y_train)\n",
        "y_pred_dt=dt.predict(x_test)\n",
        "acc_dt=accuracy_score(y_test,y_pred_dt)\n",
        "#random forest\n",
        "rf=RandomForestClassifier(random_state=42)\n",
        "rf.fit(x_train,y_train)\n",
        "y_pred_rf=rf.predict(x_test)\n",
        "acc_rf=accuracy_score(y_test,y_pred_rf)\n",
        "#comparing results\n",
        "print(f\"KNN Accuracy:{acc_knn:.2f}\")\n",
        "print(f\"Decision tree Accuracy:{acc_dt:.2f}\")\n",
        "print(f\"Random forest accuracy:{acc_rf:.2f}\")\n",
        "\n",
        "\n",
        "\n",
        "\n",
        "\n",
        "\n"
      ],
      "metadata": {
        "id": "t49Cj-Jd7_jZ"
      },
      "execution_count": null,
      "outputs": []
    },
    {
      "cell_type": "markdown",
      "source": [
        "5-Feature importance"
      ],
      "metadata": {
        "id": "tQMgZR5NQe-b"
      }
    },
    {
      "cell_type": "code",
      "source": [
        "#from random forest\n",
        "rf=RandomForestClassifier(random_state=42)\n",
        "rf.fit(x_train,y_train)\n",
        "importances=rf.feature_importances_\n",
        "feature_names=x.columns\n",
        "feat_importance_df=pd.DataFrame({\n",
        "    \"Feature\":feature_names,\n",
        "    \"importance\":importances\n",
        "}).sort_values(by=\"importance\",ascending=False)\n",
        "plt.figure(figsize=(8,5))\n",
        "plt.barh(feat_importance_df[\"Feature\"],\n",
        "         feat_importance_df[\"importance\"])\n",
        "plt.xlabel(\"Importance score\")\n",
        "plt.ylabel(\"Feature\")\n",
        "plt.title(\"Importance from random forest\")\n",
        "plt.gca().invert_yaxis()\n",
        "plt.show()"
      ],
      "metadata": {
        "id": "6pSKI3vMBZ3e"
      },
      "execution_count": null,
      "outputs": []
    },
    {
      "cell_type": "markdown",
      "source": [
        "6-Hyperparameter tuning"
      ],
      "metadata": {
        "id": "j46aBbTVSrJi"
      }
    },
    {
      "cell_type": "code",
      "source": [
        "#optimisation of hyperparameters\n",
        "knn_params = {\n",
        "    'n_neighbors': range(3, 15),\n",
        "    'weights': ['uniform', 'distance'],\n",
        "    'p': [1, 2]\n",
        "}\n",
        "\n",
        "dt_params = {\n",
        "    'max_depth': [3, 5, 7, 10, 15, 20, None],\n",
        "    'min_samples_split': [2, 5, 10, 15, 20],\n",
        "\n",
        "}\n",
        "\n",
        "rf_params = {\n",
        "    'n_estimators': [50, 100, 200, 300],\n",
        "    'max_depth': [3, 5, 7, 10, 15, 20, None],\n",
        "    'min_samples_split': [2, 5, 10, 15],\n",
        "\n",
        "}\n",
        "\n",
        "# Dictionary to store all results\n",
        "results = {}\n",
        "\n",
        "# KNN Tuning\n",
        "print(\" Tuning KNN...\")\n",
        "knn_search = RandomizedSearchCV(\n",
        "    KNeighborsClassifier(), knn_params, n_iter=10, cv=5, random_state=42\n",
        ")\n",
        "knn_search.fit(x_train, y_train)\n",
        "best_knn = knn_search.best_estimator_\n",
        "y_pred_knn_tuned = best_knn.predict(x_test)\n",
        "acc_knn_tuned = accuracy_score(y_test, y_pred_knn_tuned)\n",
        "results['KNN'] = acc_knn_tuned\n",
        "print(\" KNN tuned!\")\n",
        "\n",
        "# Decision Tree Tuning\n",
        "print(\"Tuning Decision Tree...\")\n",
        "dt_search = RandomizedSearchCV(\n",
        "    DecisionTreeClassifier(random_state=42), dt_params, n_iter=15, cv=5, random_state=42\n",
        ")\n",
        "dt_search.fit(x_train, y_train)\n",
        "best_dt = dt_search.best_estimator_\n",
        "y_pred_dt_tuned = best_dt.predict(x_test)\n",
        "acc_dt_tuned = accuracy_score(y_test, y_pred_dt_tuned)\n",
        "results['Decision Tree'] = acc_dt_tuned\n",
        "print(\" Decision Tree tuned!\")\n",
        "\n",
        "# Random Forest Tuning\n",
        "print(\" Tuning Random Forest...\")\n",
        "rf_search = RandomizedSearchCV(\n",
        "    RandomForestClassifier(random_state=42), rf_params, n_iter=15, cv=5, random_state=42\n",
        ")\n",
        "rf_search.fit(x_train, y_train)\n",
        "best_rf = rf_search.best_estimator_\n",
        "y_pred_rf_tuned = best_rf.predict(x_test)\n",
        "acc_rf_tuned = accuracy_score(y_test, y_pred_rf_tuned)\n",
        "results['Random Forest'] = acc_rf_tuned\n",
        "print(\"Random Forest tuned!\")\n",
        "\n",
        "# Print all results\n",
        "print(\"\\n\" + \"=\"*60)\n",
        "print(\" FINAL TUNED ACCURACIES:\")\n",
        "print(\"=\"*60)\n",
        "for model, acc in results.items():\n",
        "    print(f\"{model}: {acc:.4f}\")\n",
        "\n",
        "# Find best model\n",
        "best_model = max(results, key=results.get)\n",
        "print(f\"\\n BEST MODEL: {best_model} ({results[best_model]:.4f})\")\n",
        "\n",
        "\n"
      ],
      "metadata": {
        "id": "-OW7pxXXSvOL"
      },
      "execution_count": null,
      "outputs": []
    },
    {
      "cell_type": "code",
      "source": [
        "# BRIEF DEFAULT VS TUNED COMPARISON\n",
        "results = []\n",
        "\n",
        "# 1. KNN Comparison\n",
        "knn_default = KNeighborsClassifier().fit(x_train, y_train)\n",
        "knn_tuned = KNeighborsClassifier(n_neighbors=7, weights='distance', p=1).fit(x_train, y_train)\n",
        "\n",
        "results.append({\n",
        "    'Model': 'KNN',\n",
        "    'Default': accuracy_score(y_test, knn_default.predict(x_test)),\n",
        "    'Tuned': accuracy_score(y_test, knn_tuned.predict(x_test))\n",
        "})\n",
        "\n",
        "# 2. Decision Tree Comparison\n",
        "dt_default = DecisionTreeClassifier(random_state=42).fit(x_train, y_train)\n",
        "dt_tuned = DecisionTreeClassifier(max_depth=5, min_samples_split=10, random_state=42).fit(x_train, y_train)\n",
        "\n",
        "results.append({\n",
        "    'Model': 'Decision Tree',\n",
        "    'Default': accuracy_score(y_test, dt_default.predict(x_test)),\n",
        "    'Tuned': accuracy_score(y_test, dt_tuned.predict(x_test))\n",
        "})\n",
        "\n",
        "# 3. Random Forest Comparison\n",
        "rf_default = RandomForestClassifier(random_state=42).fit(x_train, y_train)\n",
        "rf_tuned = RandomForestClassifier(n_estimators=200, max_depth=10, random_state=42).fit(x_train, y_train)\n",
        "\n",
        "results.append({\n",
        "    'Model': 'Random Forest',\n",
        "    'Default': accuracy_score(y_test, rf_default.predict(x_test)),\n",
        "    'Tuned': accuracy_score(y_test, rf_tuned.predict(x_test))\n",
        "})\n",
        "\n",
        "# Print results\n",
        "print(\" DEFAULT VS TUNED COMPARISON\")\n",
        "print(\"=\"*40)\n",
        "for result in results:\n",
        "    imp = result['Tuned'] - result['Default']\n",
        "    print(f\"{result['Model']:15} Default: {result['Default']:.3f} | Tuned: {result['Tuned']:.3f} | Improvement: {imp:+.3f}\")"
      ],
      "metadata": {
        "id": "j97CwrLbcwS2"
      },
      "execution_count": null,
      "outputs": []
    },
    {
      "cell_type": "markdown",
      "source": [
        "7-Model Evaluation"
      ],
      "metadata": {
        "id": "dWAGPJqvfRl_"
      }
    },
    {
      "cell_type": "code",
      "source": [
        "class_names = ['class1', 'class2', 'class3']\n",
        "from sklearn.preprocessing import label_binarize\n",
        "from sklearn.metrics import roc_curve\n",
        "from sklearn.metrics import auc\n",
        "def evaluate_model(name, y_test, y_pred):\n",
        "    print(f\"\\n{name} Evaluation:\")\n",
        "    print(\"Accuracy:\", accuracy_score(y_test, y_pred))\n",
        "    print(classification_report(y_test, y_pred, target_names=class_names))\n",
        "\n",
        "    # Confusion Matrix\n",
        "    cm = confusion_matrix(y_test, y_pred)\n",
        "    plt.figure(figsize=(5,4))\n",
        "    sns.heatmap(cm, annot=True, fmt=\"d\", cmap=\"Blues\", xticklabels=class_names, yticklabels=class_names)\n",
        "    plt.title(f\"{name} - Confusion Matrix\")\n",
        "    plt.xlabel(\"Predicted\")\n",
        "    plt.ylabel(\"True\")\n",
        "    plt.show()\n",
        "\n",
        "# --- Evaluate All Models ---\n",
        "evaluate_model(\"KNN\", y_test, y_pred_knn)\n",
        "evaluate_model(\"Decision Tree\", y_test, y_pred_dt)\n",
        "evaluate_model(\"Random Forest\", y_test, y_pred_rf)\n",
        "\n",
        "# --- ROC Curve for Best Model (Random Forest in this case) ---\n",
        "# Need to binarize labels for multiclass ROC\n",
        "y_test_bin = label_binarize(y_test, classes=[0,1,2])\n",
        "y_score_rf = rf.predict_proba(x_test)\n",
        "plt.figure(figsize=(6,5))\n",
        "for i in range(len(class_names)):\n",
        "    fpr, tpr, _ = roc_curve(y_test_bin[:, i], y_score_rf[:, i])\n",
        "    roc_auc = auc(fpr, tpr)\n",
        "    plt.plot(fpr, tpr, label=f\"{class_names[i]} (AUC = {roc_auc:.2f})\")\n",
        "\n",
        "plt.plot([0,1], [0,1], \"k--\")  # diagonal line\n",
        "plt.xlabel(\"False Positive Rate\")\n",
        "plt.ylabel(\"True Positive Rate\")\n",
        "plt.title(\"ROC Curve - Random Forest\")\n",
        "plt.legend()\n",
        "plt.show()"
      ],
      "metadata": {
        "id": "fsVDUTaIfUlI"
      },
      "execution_count": null,
      "outputs": []
    },
    {
      "cell_type": "markdown",
      "source": [
        "8-Conclusion"
      ],
      "metadata": {
        "id": "t8BhVse_liFI"
      }
    },
    {
      "cell_type": "markdown",
      "source": [
        "The Random Forest Classifier outperformed KNN and Decision Tree, achieving the highest accuracy and balanced precision–recall scores.\n",
        "\n",
        "Hyperparameter tuning (e.g., adjusting number of estimators, max depth, min samples split) further improved the Random Forest’s performance by reducing overfitting and enhancing generalization.\n",
        "\n",
        "abnormal_short_term_variability\n",
        "mean_value_of_short_term_variability\n",
        "percentage_of_time_with_abnormal_long_term_variability\n",
        "histogram_mean\n",
        "histogram_mode\n",
        "histogram_median\n",
        "prolonged_decelerations\n",
        "\n",
        "These features have the highest importance scores, meaning they contribute the most to the model’s predictions."
      ],
      "metadata": {
        "id": "gANzMNSGmW1S"
      }
    },
    {
      "cell_type": "markdown",
      "source": [
        "                               Report\n",
        "**Data insights:**\n",
        "The dataset contained various clinical and statistical features related to fetal heart rate patterns. These features included measures of short-term and long-term variability, accelerations, decelerations, uterine contractions, and histogram-based metrics such as mean, mode, median, and variance.\n",
        "\n",
        "Initial exploration using NumPy and Pandas revealed that the dataset had a mix of continuous and categorical values, with no extreme missing data issues. Descriptive statistics indicated that most variables had reasonable ranges but varied distributions.\n",
        "\n",
        "The target variable was a categorical outcome related to fetal health, and the dataset was imbalanced to some degree, with normal cases being more frequent than pathological ones. This imbalance highlighted the importance of using precision, recall, and F1-score (not just accuracy) in evaluating the models.\n",
        "\n",
        "**Visualization Findings**\n",
        "\n",
        "To better understand the dataset, we conducted exploratory data analysis (EDA).\n",
        "\n",
        "Histograms of continuous variables showed different distribution shapes (some skewed, some symmetric).\n",
        "Boxplots highlighted the presence of variability in features like short-term variability and decelerations.\n",
        "\n",
        "Correlation heatmap showed moderate correlations among histogram features but less correlation between short-term variability features and histogram-based ones, suggesting complementary information.An interactive scatter plot using Plotly displayed clear separation tendencies between classes for features like short-term variability.\n",
        "\n",
        "Overall, EDA indicated that certain variability measures and histogram statistics may strongly influence the model’s ability to predict fetal health outcomes.\n",
        "\n",
        " *** Model Comparison***\n",
        "\n",
        "Three models were trained and compared:\n",
        "\n",
        "K-Nearest Neighbors (KNN)\n",
        "\n",
        "Simple algorithm but struggled with higher-dimensional data.\n",
        "Best Model: Random Forest was the best-performing model, showing robustness and improved results after hyperparameter tuning.\n",
        "Decision Tree Classifier\n",
        "\n",
        "Captured non-linear relationships but tended to overfit.\n",
        "\n",
        "Performance was slightly better than KNN but still inconsistent across different splits.\n",
        "Random Forest Classifier\n",
        "\n",
        "Outperformed both KNN and Decision Tree.\n",
        "\n",
        "Provided the best balance of accuracy, precision, recall, and F1-score.\n",
        "\n",
        "Also allowed extraction of feature importance, making results interpretable.\n",
        "Hyperparameter tuning with RandomizedSearchCV improved results for Random Forest by optimizing the number of estimators, maximum depth, and minimum samples per split. This reduced overfitting and improved generalization.\n",
        "\n",
        "**Key Conclusions**\n",
        "\n",
        "Best Model: Random Forest was the best-performing model, showing robustness and improved results after hyperparameter tuning.\n",
        "\n",
        "Most Important Features: Variability measures (short-term and long-term) and histogram statistics were the strongest predictors.\n",
        "\n",
        "Hyperparameter Tuning Impact: Tuning improved Random Forest’s performance by reducing overfitting and optimizing model complexity.\n",
        "\n",
        "Overall, the project demonstrated how machine learning can be effectively applied to clinical datasets, with Random Forest providing both strong predictive power and interpretability through feature importance.\n",
        "\n",
        "\n",
        "\n",
        "\n"
      ],
      "metadata": {
        "id": "rOgTHJpUqf9B"
      }
    }
  ]
}